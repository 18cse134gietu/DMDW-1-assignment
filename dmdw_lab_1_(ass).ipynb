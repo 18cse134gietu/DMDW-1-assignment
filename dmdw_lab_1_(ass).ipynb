{
  "nbformat": 4,
  "nbformat_minor": 0,
  "metadata": {
    "colab": {
      "name": "dmdw lab-1 (ass).ipynb",
      "provenance": [],
      "collapsed_sections": []
    },
    "kernelspec": {
      "name": "python3",
      "display_name": "Python 3"
    }
  },
  "cells": [
    {
      "cell_type": "markdown",
      "metadata": {
        "id": "LTZzFQWb_71m"
      },
      "source": [
        "MEAN OF GIVEN DATA"
      ]
    },
    {
      "cell_type": "code",
      "metadata": {
        "id": "86AjgvPLAAsb",
        "outputId": "51f18a79-27e7-41de-84ff-3efc1b1b521d",
        "colab": {
          "base_uri": "https://localhost:8080/",
          "height": 246
        }
      },
      "source": [
        "DL=[]\n",
        "sum=0\n",
        "mean=0\n",
        "median=0\n",
        "mode=0\n",
        "std=0\n",
        "varience=0\n",
        "print(\"Enter number of data \")\n",
        "n=int(input())\n",
        "print(\"Enter the element\")\n",
        "for i in range(n):\n",
        "  DL.append(int(input()))"
      ],
      "execution_count": null,
      "outputs": [
        {
          "output_type": "stream",
          "text": [
            "Enter number of data \n",
            "10\n",
            "Enter the element\n",
            "11\n",
            "1\n",
            "34\n",
            "4\n",
            "2\n",
            "1\n",
            "34\n",
            "23\n",
            "1\n",
            "2\n"
          ],
          "name": "stdout"
        }
      ]
    },
    {
      "cell_type": "code",
      "metadata": {
        "id": "SG4Jhg2wb6jX"
      },
      "source": [
        ""
      ],
      "execution_count": null,
      "outputs": []
    },
    {
      "cell_type": "markdown",
      "metadata": {
        "id": "kaFoomtgb-ku"
      },
      "source": [
        "Calculating mean of given data set"
      ]
    },
    {
      "cell_type": "code",
      "metadata": {
        "id": "ttzPjmLHcEc9",
        "outputId": "92bd20d9-5028-4c94-dccc-ece850af6087",
        "colab": {
          "base_uri": "https://localhost:8080/",
          "height": 34
        }
      },
      "source": [
        "for item in DL:\n",
        "  sum=sum+item\n",
        "mean=sum/n\n",
        "print(\"The mean of given data is\",mean)"
      ],
      "execution_count": null,
      "outputs": [
        {
          "output_type": "stream",
          "text": [
            "The mean of given data is 11.3\n"
          ],
          "name": "stdout"
        }
      ]
    },
    {
      "cell_type": "markdown",
      "metadata": {
        "id": "vgSH1w2VUFTU"
      },
      "source": [
        "Calculating the median\n"
      ]
    },
    {
      "cell_type": "code",
      "metadata": {
        "id": "qa5PJ1jKUIBs",
        "outputId": "232f0f2e-7d6c-46e3-b68e-934e6cb9a1fa",
        "colab": {
          "base_uri": "https://localhost:8080/",
          "height": 34
        }
      },
      "source": [
        "# Now calculating the median\n",
        "DL.sort()\n",
        "r=n%2\n",
        "if r==0:\n",
        "  m1=n//2\n",
        "  m2=n//2-1\n",
        "  median=(DL[m1]+DL[m2])/2\n",
        "else:\n",
        "  median=DL[n//2]\n",
        "print(\"Median of given data is\",(median))"
      ],
      "execution_count": null,
      "outputs": [
        {
          "output_type": "stream",
          "text": [
            "Median of given data is 3.0\n"
          ],
          "name": "stdout"
        }
      ]
    },
    {
      "cell_type": "markdown",
      "metadata": {
        "id": "9d9nwg44V-Tn"
      },
      "source": [
        "Calculating the mode\n"
      ]
    },
    {
      "cell_type": "code",
      "metadata": {
        "id": "CdG1jFFGULMp",
        "outputId": "60590d1f-6fbd-4e35-fb3f-e9db4e2f88d7",
        "colab": {
          "base_uri": "https://localhost:8080/",
          "height": 34
        }
      },
      "source": [
        "dict1={}\n",
        "for i in range(n):\n",
        "  k=0\n",
        "  for item in DL:\n",
        "    if(DL[i]==item):\n",
        "      k=k+1\n",
        "  dict1[DL[i]]=k\n",
        "  i=i+k\n",
        "#print(dict1)\n",
        "m=max(dict1.values())\n",
        "for key, value in dict1.items():\n",
        "    if m == value:\n",
        "      mode=key\n",
        "      print(\"Mode of given data set is\",key)"
      ],
      "execution_count": null,
      "outputs": [
        {
          "output_type": "stream",
          "text": [
            "Mode of given data set is 1\n"
          ],
          "name": "stdout"
        }
      ]
    },
    {
      "cell_type": "markdown",
      "metadata": {
        "id": "LMoBw3wQcr4X"
      },
      "source": [
        "Calculating standard deviation"
      ]
    },
    {
      "cell_type": "code",
      "metadata": {
        "id": "7DstQzVycqhr",
        "outputId": "73a93b36-2431-40dd-c848-7d5d5318cea2",
        "colab": {
          "base_uri": "https://localhost:8080/",
          "height": 52
        }
      },
      "source": [
        "import math\n",
        "sum=0\n",
        "for item in DL:\n",
        "  sum=sum+(item-mean)*(item-mean)\n",
        "sum=sum/n-1\n",
        "varience=sum\n",
        "std=math.sqrt(sum)\n",
        "print(\"Standard deviation of given data set is\",std)\n",
        "print(\"Varience of a given data is\",varience)"
      ],
      "execution_count": null,
      "outputs": [
        {
          "output_type": "stream",
          "text": [
            "Standard deviation of given data set is 13.04645545732633\n",
            "Varience of a given data is 170.20999999999998\n"
          ],
          "name": "stdout"
        }
      ]
    },
    {
      "cell_type": "code",
      "metadata": {
        "id": "KuPxMndLdyt5"
      },
      "source": [
        ""
      ],
      "execution_count": null,
      "outputs": []
    }
  ]
}